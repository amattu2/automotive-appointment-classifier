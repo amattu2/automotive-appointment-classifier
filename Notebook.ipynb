{
 "cells": [
  {
   "cell_type": "markdown",
   "metadata": {
    "_uuid": "8f2c1d669c79aa6f4243862311bbed58c92b9df2"
   },
   "source": [
    "# Model Training Notebook\n",
    "\n",
    "This notebook is used to setup, clean and train the multi-label classification model.\n",
    "\n",
    "An example row in the dataset.csv looks like:\n",
    "```CSV\n",
    "\"ID\",\"Length\",\"Comments\",\"TypeID\",\"Type\",\"LabelID\",\"Status\",\"PackageID\",\"Package\",\"PackageCategoryID\",\"PackageCategory\"\n",
    "\"1\",\"60\",\"- OC, - Chk Body work\",\"1\",\"Waiting\",\"1\",\"Done\",\"138\",\"OC 5W40\",\"3\",\"Routine Services\"\n",
    "```"
   ]
  },
  {
   "cell_type": "code",
   "execution_count": null,
   "metadata": {},
   "outputs": [],
   "source": [
    "%pip install scikit-learn\n",
    "%pip install scikit-multilearn\n",
    "%pip install pandas\n",
    "%pip install numpy\n",
    "%pip install matplotlib\n",
    "%pip install seaborn\n",
    "%pip install scipy"
   ]
  },
  {
   "cell_type": "markdown",
   "metadata": {
    "_uuid": "f50e5782892d34c2840f1c93621dfd6a7fd500c7"
   },
   "source": [
    "## Data Setup"
   ]
  },
  {
   "cell_type": "code",
   "execution_count": 240,
   "metadata": {
    "_cell_guid": "b1076dfc-b9ad-4769-8c92-a6c4dae69d19",
    "_uuid": "8f2839f25d086af736a60e9eeb907d3b93b6e0e5"
   },
   "outputs": [],
   "source": [
    "import pandas as pd\n",
    "import seaborn as sns\n",
    "import matplotlib.pyplot as plt"
   ]
  },
  {
   "cell_type": "code",
   "execution_count": 241,
   "metadata": {
    "_cell_guid": "79c7e3d0-c299-4dcb-8224-4455121ee9b0",
    "_uuid": "d629ff2d2480ee46fbb7e2d37f6b5fab8052498a"
   },
   "outputs": [],
   "source": [
    "df = pd.read_csv('dataset.csv', header = 0)"
   ]
  },
  {
   "cell_type": "code",
   "execution_count": 242,
   "metadata": {
    "_uuid": "46754062871747549aa822f8c85326be82f603f1"
   },
   "outputs": [
    {
     "data": {
      "text/html": [
       "<div>\n",
       "<style scoped>\n",
       "    .dataframe tbody tr th:only-of-type {\n",
       "        vertical-align: middle;\n",
       "    }\n",
       "\n",
       "    .dataframe tbody tr th {\n",
       "        vertical-align: top;\n",
       "    }\n",
       "\n",
       "    .dataframe thead th {\n",
       "        text-align: right;\n",
       "    }\n",
       "</style>\n",
       "<table border=\"1\" class=\"dataframe\">\n",
       "  <thead>\n",
       "    <tr style=\"text-align: right;\">\n",
       "      <th></th>\n",
       "      <th>ID</th>\n",
       "      <th>Length</th>\n",
       "      <th>Comments</th>\n",
       "      <th>TypeID</th>\n",
       "      <th>Type</th>\n",
       "      <th>LabelID</th>\n",
       "      <th>Status</th>\n",
       "      <th>PackageID</th>\n",
       "      <th>Package</th>\n",
       "      <th>PackageCategoryID</th>\n",
       "      <th>PackageCategory</th>\n",
       "    </tr>\n",
       "  </thead>\n",
       "  <tbody>\n",
       "    <tr>\n",
       "      <th>0</th>\n",
       "      <td>1</td>\n",
       "      <td>60</td>\n",
       "      <td>- OC\\n- Chk Body work</td>\n",
       "      <td>1</td>\n",
       "      <td>Waiting</td>\n",
       "      <td>1</td>\n",
       "      <td>Done</td>\n",
       "      <td>138</td>\n",
       "      <td>OC 5W40</td>\n",
       "      <td>3</td>\n",
       "      <td>Routine Services</td>\n",
       "    </tr>\n",
       "    <tr>\n",
       "      <th>1</th>\n",
       "      <td>2</td>\n",
       "      <td>60</td>\n",
       "      <td>'10 Maxima [New] [TC/AM R.C.]\\n- Steering Whee...</td>\n",
       "      <td>2</td>\n",
       "      <td>Drop Off</td>\n",
       "      <td>0</td>\n",
       "      <td>NaN</td>\n",
       "      <td>154</td>\n",
       "      <td>Diagnostic</td>\n",
       "      <td>0</td>\n",
       "      <td>NaN</td>\n",
       "    </tr>\n",
       "    <tr>\n",
       "      <th>2</th>\n",
       "      <td>3</td>\n",
       "      <td>60</td>\n",
       "      <td>- OC</td>\n",
       "      <td>1</td>\n",
       "      <td>Waiting</td>\n",
       "      <td>1</td>\n",
       "      <td>Done</td>\n",
       "      <td>137</td>\n",
       "      <td>OC 0W20</td>\n",
       "      <td>3</td>\n",
       "      <td>Routine Services</td>\n",
       "    </tr>\n",
       "    <tr>\n",
       "      <th>3</th>\n",
       "      <td>4</td>\n",
       "      <td>60</td>\n",
       "      <td>- Oc\\n- Dust pan</td>\n",
       "      <td>1</td>\n",
       "      <td>Waiting</td>\n",
       "      <td>1</td>\n",
       "      <td>Done</td>\n",
       "      <td>137</td>\n",
       "      <td>OC 0W20</td>\n",
       "      <td>3</td>\n",
       "      <td>Routine Services</td>\n",
       "    </tr>\n",
       "    <tr>\n",
       "      <th>4</th>\n",
       "      <td>5</td>\n",
       "      <td>60</td>\n",
       "      <td>- OC\\n- CEL</td>\n",
       "      <td>1</td>\n",
       "      <td>Waiting</td>\n",
       "      <td>1</td>\n",
       "      <td>Done</td>\n",
       "      <td>136</td>\n",
       "      <td>OC 5W30</td>\n",
       "      <td>3</td>\n",
       "      <td>Routine Services</td>\n",
       "    </tr>\n",
       "  </tbody>\n",
       "</table>\n",
       "</div>"
      ],
      "text/plain": [
       "   ID  Length                                           Comments  TypeID  \\\n",
       "0   1      60                              - OC\\n- Chk Body work       1   \n",
       "1   2      60  '10 Maxima [New] [TC/AM R.C.]\\n- Steering Whee...       2   \n",
       "2   3      60                                               - OC       1   \n",
       "3   4      60                                   - Oc\\n- Dust pan       1   \n",
       "4   5      60                                        - OC\\n- CEL       1   \n",
       "\n",
       "       Type  LabelID Status  PackageID     Package  PackageCategoryID  \\\n",
       "0   Waiting        1   Done        138     OC 5W40                  3   \n",
       "1  Drop Off        0    NaN        154  Diagnostic                  0   \n",
       "2   Waiting        1   Done        137     OC 0W20                  3   \n",
       "3   Waiting        1   Done        137     OC 0W20                  3   \n",
       "4   Waiting        1   Done        136     OC 5W30                  3   \n",
       "\n",
       "    PackageCategory  \n",
       "0  Routine Services  \n",
       "1               NaN  \n",
       "2  Routine Services  \n",
       "3  Routine Services  \n",
       "4  Routine Services  "
      ]
     },
     "execution_count": 242,
     "metadata": {},
     "output_type": "execute_result"
    }
   ],
   "source": [
    "df.head()"
   ]
  },
  {
   "cell_type": "code",
   "execution_count": 243,
   "metadata": {
    "_uuid": "14f02db3d19ac582e124cdb1254fa0fb5ce28d9a"
   },
   "outputs": [
    {
     "data": {
      "text/plain": [
       "(15059, 11)"
      ]
     },
     "execution_count": 243,
     "metadata": {},
     "output_type": "execute_result"
    }
   ],
   "source": [
    "df.shape"
   ]
  },
  {
   "cell_type": "code",
   "execution_count": 244,
   "metadata": {},
   "outputs": [
    {
     "name": "stdout",
     "output_type": "stream",
     "text": [
      "<class 'pandas.core.frame.DataFrame'>\n",
      "RangeIndex: 15059 entries, 0 to 15058\n",
      "Data columns (total 11 columns):\n",
      " #   Column             Non-Null Count  Dtype \n",
      "---  ------             --------------  ----- \n",
      " 0   ID                 15059 non-null  int64 \n",
      " 1   Length             15059 non-null  int64 \n",
      " 2   Comments           13284 non-null  object\n",
      " 3   TypeID             15059 non-null  int64 \n",
      " 4   Type               15059 non-null  object\n",
      " 5   LabelID            15059 non-null  int64 \n",
      " 6   Status             14446 non-null  object\n",
      " 7   PackageID          15059 non-null  int64 \n",
      " 8   Package            15059 non-null  object\n",
      " 9   PackageCategoryID  15059 non-null  int64 \n",
      " 10  PackageCategory    11983 non-null  object\n",
      "dtypes: int64(6), object(5)\n",
      "memory usage: 1.3+ MB\n"
     ]
    }
   ],
   "source": [
    "df.info()"
   ]
  },
  {
   "cell_type": "code",
   "execution_count": 245,
   "metadata": {},
   "outputs": [
    {
     "data": {
      "text/html": [
       "<div>\n",
       "<style scoped>\n",
       "    .dataframe tbody tr th:only-of-type {\n",
       "        vertical-align: middle;\n",
       "    }\n",
       "\n",
       "    .dataframe tbody tr th {\n",
       "        vertical-align: top;\n",
       "    }\n",
       "\n",
       "    .dataframe thead th {\n",
       "        text-align: right;\n",
       "    }\n",
       "</style>\n",
       "<table border=\"1\" class=\"dataframe\">\n",
       "  <thead>\n",
       "    <tr style=\"text-align: right;\">\n",
       "      <th></th>\n",
       "      <th>ID</th>\n",
       "      <th>Length</th>\n",
       "      <th>TypeID</th>\n",
       "      <th>LabelID</th>\n",
       "      <th>PackageID</th>\n",
       "      <th>PackageCategoryID</th>\n",
       "    </tr>\n",
       "  </thead>\n",
       "  <tbody>\n",
       "    <tr>\n",
       "      <th>count</th>\n",
       "      <td>15059.000000</td>\n",
       "      <td>15059.000000</td>\n",
       "      <td>15059.000000</td>\n",
       "      <td>15059.000000</td>\n",
       "      <td>15059.000000</td>\n",
       "      <td>15059.000000</td>\n",
       "    </tr>\n",
       "    <tr>\n",
       "      <th>mean</th>\n",
       "      <td>9637.200212</td>\n",
       "      <td>76.195298</td>\n",
       "      <td>1.661332</td>\n",
       "      <td>1.492795</td>\n",
       "      <td>147.192310</td>\n",
       "      <td>1.734909</td>\n",
       "    </tr>\n",
       "    <tr>\n",
       "      <th>std</th>\n",
       "      <td>5707.165302</td>\n",
       "      <td>65.694733</td>\n",
       "      <td>1.063553</td>\n",
       "      <td>1.872762</td>\n",
       "      <td>11.083022</td>\n",
       "      <td>1.470698</td>\n",
       "    </tr>\n",
       "    <tr>\n",
       "      <th>min</th>\n",
       "      <td>1.000000</td>\n",
       "      <td>15.000000</td>\n",
       "      <td>1.000000</td>\n",
       "      <td>0.000000</td>\n",
       "      <td>73.000000</td>\n",
       "      <td>0.000000</td>\n",
       "    </tr>\n",
       "    <tr>\n",
       "      <th>25%</th>\n",
       "      <td>4629.500000</td>\n",
       "      <td>45.000000</td>\n",
       "      <td>1.000000</td>\n",
       "      <td>1.000000</td>\n",
       "      <td>137.000000</td>\n",
       "      <td>1.000000</td>\n",
       "    </tr>\n",
       "    <tr>\n",
       "      <th>50%</th>\n",
       "      <td>9658.000000</td>\n",
       "      <td>60.000000</td>\n",
       "      <td>1.000000</td>\n",
       "      <td>1.000000</td>\n",
       "      <td>152.000000</td>\n",
       "      <td>1.000000</td>\n",
       "    </tr>\n",
       "    <tr>\n",
       "      <th>75%</th>\n",
       "      <td>14550.500000</td>\n",
       "      <td>75.000000</td>\n",
       "      <td>2.000000</td>\n",
       "      <td>1.000000</td>\n",
       "      <td>155.000000</td>\n",
       "      <td>3.000000</td>\n",
       "    </tr>\n",
       "    <tr>\n",
       "      <th>max</th>\n",
       "      <td>19766.000000</td>\n",
       "      <td>615.000000</td>\n",
       "      <td>8.000000</td>\n",
       "      <td>18.000000</td>\n",
       "      <td>166.000000</td>\n",
       "      <td>7.000000</td>\n",
       "    </tr>\n",
       "  </tbody>\n",
       "</table>\n",
       "</div>"
      ],
      "text/plain": [
       "                 ID        Length        TypeID       LabelID     PackageID  \\\n",
       "count  15059.000000  15059.000000  15059.000000  15059.000000  15059.000000   \n",
       "mean    9637.200212     76.195298      1.661332      1.492795    147.192310   \n",
       "std     5707.165302     65.694733      1.063553      1.872762     11.083022   \n",
       "min        1.000000     15.000000      1.000000      0.000000     73.000000   \n",
       "25%     4629.500000     45.000000      1.000000      1.000000    137.000000   \n",
       "50%     9658.000000     60.000000      1.000000      1.000000    152.000000   \n",
       "75%    14550.500000     75.000000      2.000000      1.000000    155.000000   \n",
       "max    19766.000000    615.000000      8.000000     18.000000    166.000000   \n",
       "\n",
       "       PackageCategoryID  \n",
       "count       15059.000000  \n",
       "mean            1.734909  \n",
       "std             1.470698  \n",
       "min             0.000000  \n",
       "25%             1.000000  \n",
       "50%             1.000000  \n",
       "75%             3.000000  \n",
       "max             7.000000  "
      ]
     },
     "execution_count": 245,
     "metadata": {},
     "output_type": "execute_result"
    }
   ],
   "source": [
    "df.describe()"
   ]
  },
  {
   "cell_type": "code",
   "execution_count": 246,
   "metadata": {
    "_uuid": "9516bdda15c4542a7123a04b62e5ac96873e0a27",
    "scrolled": true
   },
   "outputs": [
    {
     "data": {
      "text/plain": [
       "ID                   False\n",
       "Length               False\n",
       "Comments              True\n",
       "TypeID               False\n",
       "Type                 False\n",
       "LabelID              False\n",
       "Status                True\n",
       "PackageID            False\n",
       "Package              False\n",
       "PackageCategoryID    False\n",
       "PackageCategory       True\n",
       "dtype: bool"
      ]
     },
     "execution_count": 246,
     "metadata": {},
     "output_type": "execute_result"
    }
   ],
   "source": [
    "df.isnull().any()"
   ]
  },
  {
   "cell_type": "code",
   "execution_count": 247,
   "metadata": {},
   "outputs": [
    {
     "data": {
      "text/plain": [
       "Special Services    5695\n",
       "Routine Services    4673\n",
       "Body Shop            606\n",
       "Tire Services        526\n",
       "Brake Services       241\n",
       "AC Services          154\n",
       "Detail Services       88\n",
       "Name: PackageCategory, dtype: int64"
      ]
     },
     "execution_count": 247,
     "metadata": {},
     "output_type": "execute_result"
    }
   ],
   "source": [
    "df.PackageCategory.value_counts()"
   ]
  },
  {
   "cell_type": "code",
   "execution_count": 248,
   "metadata": {},
   "outputs": [
    {
     "data": {
      "text/plain": [
       "Unlisted                3051\n",
       "OC 0W20                 2943\n",
       "Diagnostic              2575\n",
       "Multi-Service           1688\n",
       "OC 5W30                 1435\n",
       "Pre-Del                  956\n",
       "Body Work                596\n",
       "OC 5W40                  292\n",
       "4 Tires                  276\n",
       "AC Recharge (R-134A)     149\n",
       "2 Tires                  120\n",
       "Battery                  120\n",
       "1 Tire                   119\n",
       "Front Brakes             112\n",
       "Pre-Trip                  67\n",
       "Rear Brakes               66\n",
       "Deluxe Detail             65\n",
       "MSI (Sedan)               63\n",
       "All Brakes                61\n",
       "Test Package              56\n",
       "Euro A                    51\n",
       "FEA                       42\n",
       "Euro B                    30\n",
       "Loaner Usage              27\n",
       "WP, TB, ETC               22\n",
       "MSI (Truck)               19\n",
       "Basic Clean               14\n",
       "Tire Plug                 11\n",
       "Headlight Buff            10\n",
       "Standard Detail            9\n",
       "AC Recharge (1234YF)       5\n",
       "Test Package 2             4\n",
       "SATF                       3\n",
       "Brake Drum                 2\n",
       "Name: Package, dtype: int64"
      ]
     },
     "execution_count": 248,
     "metadata": {},
     "output_type": "execute_result"
    }
   ],
   "source": [
    "df.Package.value_counts()"
   ]
  },
  {
   "cell_type": "markdown",
   "metadata": {},
   "source": [
    "## Data Cleanup"
   ]
  },
  {
   "cell_type": "code",
   "execution_count": 249,
   "metadata": {},
   "outputs": [],
   "source": [
    "# Remove reference columns\n",
    "if ('ID' in df.columns):\n",
    "  df = df.drop(['ID'], axis=1)"
   ]
  },
  {
   "cell_type": "code",
   "execution_count": 250,
   "metadata": {},
   "outputs": [],
   "source": [
    "# Remove critical columns that have no value\n",
    "df = df.dropna(subset=['Comments', 'Status'])"
   ]
  },
  {
   "cell_type": "code",
   "execution_count": 251,
   "metadata": {},
   "outputs": [
    {
     "data": {
      "text/plain": [
       "Length               False\n",
       "Comments             False\n",
       "TypeID               False\n",
       "Type                 False\n",
       "LabelID              False\n",
       "Status               False\n",
       "PackageID            False\n",
       "Package              False\n",
       "PackageCategoryID    False\n",
       "PackageCategory       True\n",
       "dtype: bool"
      ]
     },
     "execution_count": 251,
     "metadata": {},
     "output_type": "execute_result"
    }
   ],
   "source": [
    "# Sanity check\n",
    "df.isnull().any()"
   ]
  },
  {
   "cell_type": "code",
   "execution_count": 252,
   "metadata": {},
   "outputs": [],
   "source": [
    "# Remove \"Loaner Usage\" package rows\n",
    "df = df[df.Package != 'Loaner Usage']"
   ]
  },
  {
   "cell_type": "code",
   "execution_count": 253,
   "metadata": {},
   "outputs": [
    {
     "data": {
      "text/plain": [
       "(12753, 10)"
      ]
     },
     "execution_count": 253,
     "metadata": {},
     "output_type": "execute_result"
    }
   ],
   "source": [
    "df.shape"
   ]
  },
  {
   "cell_type": "markdown",
   "metadata": {},
   "source": [
    "## Dataset Visualization"
   ]
  },
  {
   "cell_type": "code",
   "execution_count": 254,
   "metadata": {},
   "outputs": [],
   "source": [
    "import seaborn as sns\n",
    "import matplotlib.pyplot as plt"
   ]
  },
  {
   "cell_type": "code",
   "execution_count": 255,
   "metadata": {},
   "outputs": [
    {
     "data": {
      "image/png": "[encoded data removed]",
      "text/plain": [
       "<Figure size 640x480 with 2 Axes>"
      ]
     },
     "metadata": {},
     "output_type": "display_data"
    }
   ],
   "source": [
    "sns.heatmap(df.corr(numeric_only = True));"
   ]
  },
  {
   "cell_type": "markdown",
   "metadata": {
    "_uuid": "a4cc7470e34dca13da2f169102e1c42337b86f83"
   },
   "source": [
    "## Building the Model"
   ]
  },
  {
   "cell_type": "markdown",
   "metadata": {
    "_uuid": "4f9bc685cb775929446e5070139589262320016c"
   },
   "source": [
    "### Add basic classification label columns\n",
    "\n",
    "In order to classify build a label model, we will apply the follow classification labels to the dataset:\n",
    "\n",
    "- `Mechanical`\n",
    "- `Bodywork`\n",
    "- `Diagnostic`\n",
    "- `Suspension`\n",
    "- `Engine`\n",
    "- `Exhaust`\n",
    "- `Brakes`\n",
    "- `Tires`\n",
    "\n",
    "These labels will be used to train the model, with an expected outcome of the model being able to predict the labels based on the `Comments` data. It won't be entirely accurate, but it will be a good start.\n",
    "\n",
    "The two high-level labels are effectively `Mechanical` and `Bodywork`, with the other labels being sub-categories of `Mechanical`."
   ]
  },
  {
   "cell_type": "code",
   "execution_count": 256,
   "metadata": {},
   "outputs": [
    {
     "data": {
      "text/plain": [
       "1    12405\n",
       "0      348\n",
       "Name: Mechanical, dtype: int64"
      ]
     },
     "execution_count": 256,
     "metadata": {},
     "output_type": "execute_result"
    }
   ],
   "source": [
    "def infer_mechanical_label(row):\n",
    "  if row[\"PackageCategory\"] not in [\"Body Shop\", \"Detail Services\"]:\n",
    "    return 1\n",
    "  return 0\n",
    "\n",
    "df[\"Mechanical\"] = df.apply(infer_mechanical_label, axis=1)\n",
    "\n",
    "df.Mechanical.value_counts()"
   ]
  },
  {
   "cell_type": "code",
   "execution_count": 257,
   "metadata": {},
   "outputs": [
    {
     "data": {
      "text/plain": [
       "0    12211\n",
       "1      542\n",
       "Name: Bodywork, dtype: int64"
      ]
     },
     "execution_count": 257,
     "metadata": {},
     "output_type": "execute_result"
    }
   ],
   "source": [
    "def infer_bodywork_label(row):\n",
    "  if row[\"PackageCategory\"] in [\"Body Shop\", \"Detail Services\"]:\n",
    "    return 1\n",
    "  if \"buff\" in row[\"Comments\"].lower():\n",
    "    return 1\n",
    "  if \"paint\" in row[\"Comments\"].lower():\n",
    "    return 1\n",
    "  if \"bodywork\" in row[\"Comments\"].lower() or \"body work\" in row[\"Comments\"].lower():\n",
    "    return 1\n",
    "  if \"dent\" in row[\"Comments\"].lower() or \"pdr\" in row[\"Comments\"].lower():\n",
    "    return 1\n",
    "  if \"scratch\" in row[\"Comments\"].lower():\n",
    "    return 1\n",
    "  if \"detail\" in row[\"Comments\"].lower():\n",
    "    return 1\n",
    "  return 0\n",
    "\n",
    "df[\"Bodywork\"] = df.apply(infer_bodywork_label, axis=1)\n",
    "\n",
    "df.Bodywork.value_counts()"
   ]
  },
  {
   "cell_type": "code",
   "execution_count": 258,
   "metadata": {},
   "outputs": [
    {
     "data": {
      "text/plain": [
       "0    9986\n",
       "1    2767\n",
       "Name: Diagnostic, dtype: int64"
      ]
     },
     "execution_count": 258,
     "metadata": {},
     "output_type": "execute_result"
    }
   ],
   "source": [
    "def infer_diagnostic_label(row):\n",
    "  if row[\"Package\"] == \"Diagnostic\":\n",
    "    return 1\n",
    "  if \"diag\" in row[\"Comments\"].lower():\n",
    "    return 1\n",
    "  if \"obd\" in row[\"Comments\"].lower() or \"cel\" in row[\"Comments\"].lower():\n",
    "    return 1\n",
    "  return 0\n",
    "\n",
    "df[\"Diagnostic\"] = df.apply(infer_diagnostic_label, axis=1)\n",
    "\n",
    "df.Diagnostic.value_counts()"
   ]
  },
  {
   "cell_type": "code",
   "execution_count": 259,
   "metadata": {},
   "outputs": [
    {
     "data": {
      "text/plain": [
       "0    12444\n",
       "1      309\n",
       "Name: Suspension, dtype: int64"
      ]
     },
     "execution_count": 259,
     "metadata": {},
     "output_type": "execute_result"
    }
   ],
   "source": [
    "def infer_suspend_label(row):\n",
    "  if \"suspension\" in row[\"Comments\"].lower():\n",
    "    return 1\n",
    "  if \"strut\" in row[\"Comments\"].lower():\n",
    "    return 1\n",
    "  if \"shocks\" in row[\"Comments\"].lower():\n",
    "    return 1\n",
    "  return 0\n",
    "\n",
    "df[\"Suspension\"] = df.apply(infer_suspend_label, axis=1)\n",
    "\n",
    "df.Suspension.value_counts()"
   ]
  },
  {
   "cell_type": "code",
   "execution_count": 260,
   "metadata": {},
   "outputs": [
    {
     "data": {
      "text/plain": [
       "0    8441\n",
       "1    4312\n",
       "Name: Engine, dtype: int64"
      ]
     },
     "execution_count": 260,
     "metadata": {},
     "output_type": "execute_result"
    }
   ],
   "source": [
    "# TODO: Expand upon this label\n",
    "def infer_engine_label(row):\n",
    "  if row[\"PackageCategory\"] in [\"Routine Services\"]:\n",
    "    return 1\n",
    "  if \"engine\" in row[\"Comments\"].lower() or \"motor\" in row[\"Comments\"].lower():\n",
    "    return 1\n",
    "  if \"oil\" in row[\"Comments\"].lower() or \"o/c\" in row[\"Comments\"].lower():\n",
    "    return 1\n",
    "  if \"spark\" in row[\"Comments\"].lower() or \"coil\" in row[\"Comments\"].lower():\n",
    "    return 1\n",
    "  return 0\n",
    "\n",
    "df[\"Engine\"] = df.apply(infer_engine_label, axis=1)\n",
    "\n",
    "df.Engine.value_counts()"
   ]
  },
  {
   "cell_type": "code",
   "execution_count": 261,
   "metadata": {},
   "outputs": [
    {
     "data": {
      "text/plain": [
       "0    12504\n",
       "1      249\n",
       "Name: Exhaust, dtype: int64"
      ]
     },
     "execution_count": 261,
     "metadata": {},
     "output_type": "execute_result"
    }
   ],
   "source": [
    "# TODO: Expand upon this label, there are strikingly low counts\n",
    "def infer_exhaust_label(row):\n",
    "  if \"exhaust\" in row[\"Comments\"].lower():\n",
    "    return 1\n",
    "  if \"muffler\" in row[\"Comments\"].lower():\n",
    "    return 1\n",
    "  if \"cat\" in row[\"Comments\"].lower():\n",
    "    return 1\n",
    "  # NOTE: This is a bit of a stretch but there's a common correlation between exhaust and welding\n",
    "  if \"weld\" in row[\"Comments\"].lower():\n",
    "    return 1\n",
    "  return 0\n",
    "\n",
    "df[\"Exhaust\"] = df.apply(infer_exhaust_label, axis=1)\n",
    "\n",
    "df.Exhaust.value_counts()"
   ]
  },
  {
   "cell_type": "code",
   "execution_count": 262,
   "metadata": {},
   "outputs": [
    {
     "data": {
      "text/plain": [
       "0    11280\n",
       "1     1473\n",
       "Name: Brakes, dtype: int64"
      ]
     },
     "execution_count": 262,
     "metadata": {},
     "output_type": "execute_result"
    }
   ],
   "source": [
    "def infer_brakes_label(row):\n",
    "  if row[\"PackageCategory\"] == \"Brake Services\":\n",
    "    return 1\n",
    "  if \"brake\" in row[\"Comments\"].lower():\n",
    "    return 1\n",
    "  if \"rotor\" in row[\"Comments\"].lower():\n",
    "    return 1\n",
    "  if \"caliper\" in row[\"Comments\"].lower():\n",
    "    return 1\n",
    "  if \"pad\" in row[\"Comments\"].lower():\n",
    "    return 1\n",
    "  if \"grinding\" in row[\"Comments\"].lower():\n",
    "    return 1\n",
    "  return 0\n",
    "\n",
    "df[\"Brakes\"] = df.apply(infer_brakes_label, axis=1)\n",
    "\n",
    "df.Brakes.value_counts()"
   ]
  },
  {
   "cell_type": "code",
   "execution_count": 263,
   "metadata": {},
   "outputs": [
    {
     "data": {
      "text/plain": [
       "0    10496\n",
       "1     2257\n",
       "Name: Tires, dtype: int64"
      ]
     },
     "execution_count": 263,
     "metadata": {},
     "output_type": "execute_result"
    }
   ],
   "source": [
    "def infer_tires_label(row):\n",
    "  if row[\"PackageCategory\"] == \"Tire Services\":\n",
    "    return 1\n",
    "  if \"tire\" in row[\"Comments\"].lower():\n",
    "    return 1\n",
    "  if \"wheel\" in row[\"Comments\"].lower():\n",
    "    return 1\n",
    "  if \"alignment\" in row[\"Comments\"].lower():\n",
    "    return 1\n",
    "  if \"rotation\" in row[\"Comments\"].lower() or \"rotate\" in row[\"Comments\"].lower():\n",
    "    return 1\n",
    "  if \"t/r\" in row[\"Comments\"].lower():\n",
    "    return 1\n",
    "  if \"fea\" in row[\"Comments\"].lower() or \"4wa\" in row[\"Comments\"].lower():\n",
    "    return 1\n",
    "  if \"patch\" in row[\"Comments\"].lower() or \"plug\" in row[\"Comments\"].lower():\n",
    "    return 1\n",
    "  return 0\n",
    "\n",
    "df[\"Tires\"] = df.apply(infer_tires_label, axis=1)\n",
    "\n",
    "df.Tires.value_counts()"
   ]
  },
  {
   "cell_type": "markdown",
   "metadata": {},
   "source": [
    "### Model Preparation\n",
    "\n",
    "The purpose of the model is to infer the categories based on the comments. The model will be trained on the `Comments` column and the labels will be the classification labels. In order to NOT bias the model, we need to drop all of the columns that were used to create the classification labels.\n",
    "\n",
    "To make this simple, we're using a whitelist of columns to keep, and we'll drop the rest."
   ]
  },
  {
   "cell_type": "code",
   "execution_count": 264,
   "metadata": {},
   "outputs": [],
   "source": [
    "whitelist = [\n",
    "  # Base column\n",
    "  \"Comments\",\n",
    "  # Derived columns\n",
    "  \"Mechanical\", \"Bodywork\", \"Diagnostic\", \"Suspension\", \"Engine\", \"Exhaust\", \"Brakes\", \"Tires\"\n",
    "]\n",
    "\n",
    "# Subset the dataframe using the whitelist\n",
    "model_df = df[whitelist]"
   ]
  },
  {
   "cell_type": "code",
   "execution_count": 265,
   "metadata": {},
   "outputs": [
    {
     "data": {
      "text/plain": [
       "(12753, 9)"
      ]
     },
     "execution_count": 265,
     "metadata": {},
     "output_type": "execute_result"
    }
   ],
   "source": [
    "# Remove all rows that have no values in the derived columns using the `whitelist`\n",
    "model_df = model_df.dropna(subset=whitelist[1:])\n",
    "\n",
    "model_df.shape"
   ]
  },
  {
   "cell_type": "code",
   "execution_count": 285,
   "metadata": {},
   "outputs": [
    {
     "data": {
      "text/html": [
       "<div>\n",
       "<style scoped>\n",
       "    .dataframe tbody tr th:only-of-type {\n",
       "        vertical-align: middle;\n",
       "    }\n",
       "\n",
       "    .dataframe tbody tr th {\n",
       "        vertical-align: top;\n",
       "    }\n",
       "\n",
       "    .dataframe thead th {\n",
       "        text-align: right;\n",
       "    }\n",
       "</style>\n",
       "<table border=\"1\" class=\"dataframe\">\n",
       "  <thead>\n",
       "    <tr style=\"text-align: right;\">\n",
       "      <th></th>\n",
       "      <th>Comments</th>\n",
       "      <th>Mechanical</th>\n",
       "      <th>Bodywork</th>\n",
       "      <th>Diagnostic</th>\n",
       "      <th>Suspension</th>\n",
       "      <th>Engine</th>\n",
       "      <th>Exhaust</th>\n",
       "      <th>Brakes</th>\n",
       "      <th>Tires</th>\n",
       "    </tr>\n",
       "  </thead>\n",
       "  <tbody>\n",
       "    <tr>\n",
       "      <th>0</th>\n",
       "      <td>- OC\\n- Chk Body work</td>\n",
       "      <td>1</td>\n",
       "      <td>1</td>\n",
       "      <td>0</td>\n",
       "      <td>0</td>\n",
       "      <td>1</td>\n",
       "      <td>0</td>\n",
       "      <td>0</td>\n",
       "      <td>0</td>\n",
       "    </tr>\n",
       "    <tr>\n",
       "      <th>2</th>\n",
       "      <td>- OC</td>\n",
       "      <td>1</td>\n",
       "      <td>0</td>\n",
       "      <td>0</td>\n",
       "      <td>0</td>\n",
       "      <td>1</td>\n",
       "      <td>0</td>\n",
       "      <td>0</td>\n",
       "      <td>0</td>\n",
       "    </tr>\n",
       "    <tr>\n",
       "      <th>3</th>\n",
       "      <td>- Oc\\n- Dust pan</td>\n",
       "      <td>1</td>\n",
       "      <td>0</td>\n",
       "      <td>0</td>\n",
       "      <td>0</td>\n",
       "      <td>1</td>\n",
       "      <td>0</td>\n",
       "      <td>0</td>\n",
       "      <td>0</td>\n",
       "    </tr>\n",
       "    <tr>\n",
       "      <th>4</th>\n",
       "      <td>- OC\\n- CEL</td>\n",
       "      <td>1</td>\n",
       "      <td>0</td>\n",
       "      <td>1</td>\n",
       "      <td>0</td>\n",
       "      <td>1</td>\n",
       "      <td>0</td>\n",
       "      <td>0</td>\n",
       "      <td>0</td>\n",
       "    </tr>\n",
       "    <tr>\n",
       "      <th>5</th>\n",
       "      <td>- OC</td>\n",
       "      <td>1</td>\n",
       "      <td>0</td>\n",
       "      <td>0</td>\n",
       "      <td>0</td>\n",
       "      <td>1</td>\n",
       "      <td>0</td>\n",
       "      <td>0</td>\n",
       "      <td>0</td>\n",
       "    </tr>\n",
       "  </tbody>\n",
       "</table>\n",
       "</div>"
      ],
      "text/plain": [
       "                Comments  Mechanical  Bodywork  Diagnostic  Suspension  \\\n",
       "0  - OC\\n- Chk Body work           1         1           0           0   \n",
       "2                   - OC           1         0           0           0   \n",
       "3       - Oc\\n- Dust pan           1         0           0           0   \n",
       "4            - OC\\n- CEL           1         0           1           0   \n",
       "5                   - OC           1         0           0           0   \n",
       "\n",
       "   Engine  Exhaust  Brakes  Tires  \n",
       "0       1        0       0      0  \n",
       "2       1        0       0      0  \n",
       "3       1        0       0      0  \n",
       "4       1        0       0      0  \n",
       "5       1        0       0      0  "
      ]
     },
     "execution_count": 285,
     "metadata": {},
     "output_type": "execute_result"
    }
   ],
   "source": [
    "model_df.head(5)"
   ]
  },
  {
   "cell_type": "markdown",
   "metadata": {},
   "source": [
    "### Model Training"
   ]
  },
  {
   "cell_type": "code",
   "execution_count": 267,
   "metadata": {},
   "outputs": [],
   "source": [
    "from sklearn.model_selection import train_test_split\n",
    "from sklearn.feature_extraction.text import TfidfVectorizer\n",
    "import numpy as np"
   ]
  },
  {
   "cell_type": "code",
   "execution_count": 268,
   "metadata": {},
   "outputs": [],
   "source": [
    "# The predictor variable\n",
    "X = model_df[\"Comments\"]\n",
    "\n",
    "# The target variables (labels)\n",
    "y = np.asarray(model_df[whitelist[1:]])"
   ]
  },
  {
   "cell_type": "code",
   "execution_count": 269,
   "metadata": {},
   "outputs": [],
   "source": [
    "vectorizer = TfidfVectorizer(max_features = None, max_df=0.85)\n",
    "vectorizer.fit(X)\n",
    "\n",
    "X_train, X_test, y_train, y_test = train_test_split(X, y, test_size = 0.4)\n",
    "X_train_tfidf = vectorizer.transform(X_train)\n",
    "X_test_tfidf = vectorizer.transform(X_test)"
   ]
  },
  {
   "cell_type": "markdown",
   "metadata": {},
   "source": [
    "#### Model 1: Sklearn - LogisticRegression Model"
   ]
  },
  {
   "cell_type": "code",
   "execution_count": 270,
   "metadata": {},
   "outputs": [],
   "source": [
    "from sklearn.multioutput import MultiOutputClassifier\n",
    "from sklearn.linear_model import LogisticRegression\n",
    "\n",
    "model1 = MultiOutputClassifier(LogisticRegression()).fit(X_train_tfidf, y_train)\n",
    "prediction = model1.predict(X_test_tfidf)"
   ]
  },
  {
   "cell_type": "code",
   "execution_count": 271,
   "metadata": {},
   "outputs": [
    {
     "name": "stdout",
     "output_type": "stream",
     "text": [
      "Accuracy Score:  0.6503332026656213\n"
     ]
    }
   ],
   "source": [
    "from sklearn.metrics import accuracy_score\n",
    "print('Accuracy Score: ', accuracy_score(y_test, prediction))"
   ]
  },
  {
   "cell_type": "code",
   "execution_count": 272,
   "metadata": {},
   "outputs": [
    {
     "name": "stdout",
     "output_type": "stream",
     "text": [
      "Hamming Loss:  0.05\n"
     ]
    }
   ],
   "source": [
    "from sklearn.metrics import hamming_loss\n",
    "print('Hamming Loss: ', round(hamming_loss(y_test, prediction),2))"
   ]
  },
  {
   "cell_type": "code",
   "execution_count": 273,
   "metadata": {},
   "outputs": [
    {
     "name": "stdout",
     "output_type": "stream",
     "text": [
      "              precision    recall  f1-score   support\n",
      "\n",
      "  Mechanical       0.98      1.00      0.99      4964\n",
      "    Bodywork       0.97      0.31      0.47       212\n",
      "  Diagnostic       0.83      0.44      0.58      1127\n",
      "  Suspension       1.00      0.48      0.65       125\n",
      "      Engine       0.87      0.71      0.79      1739\n",
      "     Exhaust       1.00      0.31      0.47        95\n",
      "      Brakes       1.00      0.75      0.86       594\n",
      "       Tires       1.00      0.79      0.88       904\n",
      "\n",
      "   micro avg       0.95      0.82      0.88      9760\n",
      "   macro avg       0.96      0.60      0.71      9760\n",
      "weighted avg       0.95      0.82      0.87      9760\n",
      " samples avg       0.96      0.85      0.88      9760\n",
      "\n"
     ]
    }
   ],
   "source": [
    "from sklearn.metrics import classification_report\n",
    "print(classification_report(y_test, prediction, target_names=whitelist[1:], zero_division=0))"
   ]
  },
  {
   "cell_type": "markdown",
   "metadata": {},
   "source": [
    "#### Model 2: Sklearn - RandomForestClassifier Model"
   ]
  },
  {
   "cell_type": "code",
   "execution_count": 274,
   "metadata": {},
   "outputs": [],
   "source": [
    "from sklearn.ensemble import RandomForestClassifier\n",
    "\n",
    "model2 = MultiOutputClassifier(RandomForestClassifier()).fit(X_train_tfidf, y_train)\n",
    "prediction = model2.predict(X_test_tfidf)"
   ]
  },
  {
   "cell_type": "code",
   "execution_count": 275,
   "metadata": {},
   "outputs": [
    {
     "name": "stdout",
     "output_type": "stream",
     "text": [
      "Accuracy Score:  0.7159937279498236\n"
     ]
    }
   ],
   "source": [
    "print('Accuracy Score: ', accuracy_score(y_test, prediction))"
   ]
  },
  {
   "cell_type": "code",
   "execution_count": 276,
   "metadata": {},
   "outputs": [
    {
     "name": "stdout",
     "output_type": "stream",
     "text": [
      "Hamming Loss:  0.04\n"
     ]
    }
   ],
   "source": [
    "print('Hamming Loss: ', round(hamming_loss(y_test, prediction),2))"
   ]
  },
  {
   "cell_type": "code",
   "execution_count": 277,
   "metadata": {},
   "outputs": [
    {
     "name": "stdout",
     "output_type": "stream",
     "text": [
      "              precision    recall  f1-score   support\n",
      "\n",
      "  Mechanical       0.98      1.00      0.99      4964\n",
      "    Bodywork       0.95      0.66      0.77       212\n",
      "  Diagnostic       0.81      0.47      0.59      1127\n",
      "  Suspension       1.00      0.90      0.95       125\n",
      "      Engine       0.86      0.81      0.84      1739\n",
      "     Exhaust       1.00      0.71      0.83        95\n",
      "      Brakes       0.98      0.97      0.98       594\n",
      "       Tires       1.00      0.96      0.98       904\n",
      "\n",
      "   micro avg       0.95      0.89      0.92      9760\n",
      "   macro avg       0.95      0.81      0.86      9760\n",
      "weighted avg       0.94      0.89      0.91      9760\n",
      " samples avg       0.95      0.90      0.91      9760\n",
      "\n"
     ]
    }
   ],
   "source": [
    "print(classification_report(y_test, prediction, target_names=whitelist[1:], zero_division=0))"
   ]
  },
  {
   "cell_type": "markdown",
   "metadata": {},
   "source": [
    "#### Model 3: Sklearn - DecisionTreeClassifier Model"
   ]
  },
  {
   "cell_type": "code",
   "execution_count": 278,
   "metadata": {},
   "outputs": [],
   "source": [
    "from sklearn.tree import DecisionTreeClassifier\n",
    "\n",
    "model3 = MultiOutputClassifier(DecisionTreeClassifier()).fit(X_train_tfidf, y_train)\n",
    "prediction = model3.predict(X_test_tfidf)"
   ]
  },
  {
   "cell_type": "code",
   "execution_count": 279,
   "metadata": {},
   "outputs": [
    {
     "name": "stdout",
     "output_type": "stream",
     "text": [
      "Accuracy Score:  0.680125441003528\n"
     ]
    }
   ],
   "source": [
    "print('Accuracy Score: ', accuracy_score(y_test, prediction))"
   ]
  },
  {
   "cell_type": "code",
   "execution_count": 280,
   "metadata": {},
   "outputs": [
    {
     "name": "stdout",
     "output_type": "stream",
     "text": [
      "Hamming Loss:  0.05\n"
     ]
    }
   ],
   "source": [
    "print('Hamming Loss: ', round(hamming_loss(y_test, prediction),2))"
   ]
  },
  {
   "cell_type": "code",
   "execution_count": 281,
   "metadata": {},
   "outputs": [
    {
     "name": "stdout",
     "output_type": "stream",
     "text": [
      "              precision    recall  f1-score   support\n",
      "\n",
      "  Mechanical       0.99      0.99      0.99      4964\n",
      "    Bodywork       0.77      0.76      0.77       212\n",
      "  Diagnostic       0.63      0.58      0.60      1127\n",
      "  Suspension       1.00      1.00      1.00       125\n",
      "      Engine       0.81      0.79      0.80      1739\n",
      "     Exhaust       0.99      0.87      0.93        95\n",
      "      Brakes       0.98      0.98      0.98       594\n",
      "       Tires       0.99      0.96      0.98       904\n",
      "\n",
      "   micro avg       0.91      0.90      0.90      9760\n",
      "   macro avg       0.90      0.87      0.88      9760\n",
      "weighted avg       0.91      0.90      0.90      9760\n",
      " samples avg       0.92      0.91      0.90      9760\n",
      "\n"
     ]
    }
   ],
   "source": [
    "print(classification_report(y_test, prediction, target_names=whitelist[1:], zero_division=0))"
   ]
  },
  {
   "cell_type": "markdown",
   "metadata": {},
   "source": [
    "#### Model 4: Sklearn - TBD"
   ]
  },
  {
   "cell_type": "code",
   "execution_count": 282,
   "metadata": {},
   "outputs": [],
   "source": [
    "# TODO: Add more models"
   ]
  },
  {
   "cell_type": "markdown",
   "metadata": {
    "_uuid": "f15e55b79aab823012c20012b6e4b0d4a0655815",
    "collapsed": true
   },
   "source": [
    "###  Create Model File\n",
    "\n",
    "Export the selected model and the vectorizer to a file for use in the API."
   ]
  },
  {
   "cell_type": "code",
   "execution_count": 283,
   "metadata": {},
   "outputs": [],
   "source": [
    "import pickle\n",
    "\n",
    "pkl_filename = \"model.pkl\"\n",
    "with open(pkl_filename, 'wb') as file:\n",
    "    pickle.dump(model2, file)\n",
    "\n",
    "vectorizer_filename = \"vectorizer.pkl\"\n",
    "with open(vectorizer_filename, 'wb') as file:\n",
    "    pickle.dump(vectorizer, file)"
   ]
  },
  {
   "cell_type": "markdown",
   "metadata": {},
   "source": [
    "### Model Usage\n",
    "\n",
    "Demo of how to use the model to predict the classification of a comment."
   ]
  },
  {
   "cell_type": "code",
   "execution_count": 284,
   "metadata": {},
   "outputs": [
    {
     "name": "stdout",
     "output_type": "stream",
     "text": [
      "Mechanical: 1\n",
      "Bodywork: 0\n",
      "Diagnostic: 0\n",
      "Suspension: 0\n",
      "Engine: 1\n",
      "Exhaust: 0\n",
      "Brakes: 1\n",
      "Tires: 1\n"
     ]
    }
   ],
   "source": [
    "# Load from file\n",
    "with open(pkl_filename, 'rb') as file:\n",
    "    pickle_model = pickle.load(file)\n",
    "    file.close()\n",
    "with open(vectorizer_filename, 'rb') as file:\n",
    "    pickle_vectorizer = pickle.load(file)\n",
    "    file.close()\n",
    "\n",
    "# Make a prediction\n",
    "prediction = pickle_model.predict(pickle_vectorizer.transform([\"Oil change, alignment, and rotors\"]))\n",
    "\n",
    "# Print in human readable format\n",
    "for i, label in enumerate(whitelist[1:]):\n",
    "  print(f\"{label}: {prediction[0][i]}\")"
   ]
  }
 ],
 "metadata": {
  "kernelspec": {
   "display_name": "Python 3",
   "language": "python",
   "name": "python3"
  },
  "language_info": {
   "codemirror_mode": {
    "name": "ipython",
    "version": 3
   },
   "file_extension": ".py",
   "mimetype": "text/x-python",
   "name": "python",
   "nbconvert_exporter": "python",
   "pygments_lexer": "ipython3",
   "version": "3.10.12"
  }
 },
 "nbformat": 4,
 "nbformat_minor": 1
}
